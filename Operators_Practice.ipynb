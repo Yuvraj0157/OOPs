{
  "nbformat": 4,
  "nbformat_minor": 0,
  "metadata": {
    "colab": {
      "name": "Operators-Practice.ipynb",
      "provenance": [],
      "collapsed_sections": [],
      "include_colab_link": true
    },
    "kernelspec": {
      "name": "python3",
      "display_name": "Python 3"
    },
    "language_info": {
      "name": "python"
    }
  },
  "cells": [
    {
      "cell_type": "markdown",
      "metadata": {
        "id": "view-in-github",
        "colab_type": "text"
      },
      "source": [
        "<a href=\"https://colab.research.google.com/github/Yuvraj0157/OOPs/blob/main/Operators_Practice.ipynb\" target=\"_parent\"><img src=\"https://colab.research.google.com/assets/colab-badge.svg\" alt=\"Open In Colab\"/></a>"
      ]
    },
    {
      "cell_type": "code",
      "metadata": {
        "id": "SGorguxW-zTb"
      },
      "source": [
        ""
      ],
      "execution_count": null,
      "outputs": []
    },
    {
      "cell_type": "markdown",
      "metadata": {
        "id": "4EQfxrpB-z_T"
      },
      "source": [
        "## Arithmetic operators\n",
        "Arithmetic operators are used to perform mathematical operations like addition, subtraction, multiplication, etc."
      ]
    },
    {
      "cell_type": "code",
      "metadata": {
        "id": "o4CZUyil-8JG",
        "colab": {
          "base_uri": "https://localhost:8080/"
        },
        "outputId": "8f3fa10f-f056-4b66-a55c-2aa9097213dc"
      },
      "source": [
        "m = 15\n",
        "n = 4\n",
        "\n",
        "# Output: m + n = 19\n",
        "print('m + n =',m+n)\n",
        "\n",
        "# Output: m - n = 11\n",
        "print('m - n =',m-n)\n",
        "\n",
        "# Output: m * n = 60\n",
        "print('m * n =',m*n)\n",
        "\n",
        "# Output: m / n = 3.75\n",
        "print('m / n =',m/n)\n",
        "\n",
        "# Output: m // n = 3\n",
        "print('m // n =',m//n)\n",
        "\n",
        "# Output: m ** n = 50625\n",
        "print('m ** n =',m**n)"
      ],
      "execution_count": 1,
      "outputs": [
        {
          "output_type": "stream",
          "name": "stdout",
          "text": [
            "m + n = 19\n",
            "m - n = 11\n",
            "m * n = 60\n",
            "m / n = 3.75\n",
            "m // n = 3\n",
            "m ** n = 50625\n"
          ]
        }
      ]
    },
    {
      "cell_type": "markdown",
      "metadata": {
        "id": "ZQW5vhPd-9SK"
      },
      "source": [
        "## Comparison operators\n",
        "* Comparison operators are used to compare values. It returns either True or False according to the condition."
      ]
    },
    {
      "cell_type": "code",
      "metadata": {
        "id": "nYhq1kMJ_GlD",
        "colab": {
          "base_uri": "https://localhost:8080/"
        },
        "outputId": "8846f15e-125a-4555-b8a0-b993ac1cfeb9"
      },
      "source": [
        "a = 10\n",
        "b = 12\n",
        "\n",
        "# Output: a > b is False\n",
        "print('a > b is',a>b)\n",
        "\n",
        "# Output: a < b is True\n",
        "print('a < b is',a<b)\n",
        "\n",
        "# Output: a == b is False\n",
        "print('a == b is',a==b)\n",
        "\n",
        "# Output: a != b is True\n",
        "print('a != b is',a!=b)\n",
        "\n",
        "# Output: a >= b is False\n",
        "print('a >= b is',a>=b)\n",
        "\n",
        "# Output: a <= b is True\n",
        "print('a <= b is',a<=b)"
      ],
      "execution_count": 2,
      "outputs": [
        {
          "output_type": "stream",
          "name": "stdout",
          "text": [
            "a > b is False\n",
            "a < b is True\n",
            "a == b is False\n",
            "a != b is True\n",
            "a >= b is False\n",
            "a <= b is True\n"
          ]
        }
      ]
    },
    {
      "cell_type": "markdown",
      "metadata": {
        "id": "vEMPYgwP_J6s"
      },
      "source": [
        "## Logical operators"
      ]
    },
    {
      "cell_type": "code",
      "metadata": {
        "id": "yOXyJUYK_Ozu",
        "colab": {
          "base_uri": "https://localhost:8080/"
        },
        "outputId": "06767ed9-9937-44be-8b42-c6ef11c7837d"
      },
      "source": [
        "m = True\n",
        "n = False\n",
        "\n",
        "print('m and n is',m and n)\n",
        "\n",
        "print('m or n is',m or n)\n",
        "\n",
        "print('not m is',not m)"
      ],
      "execution_count": 5,
      "outputs": [
        {
          "output_type": "stream",
          "name": "stdout",
          "text": [
            "m and n is False\n",
            "m or n is True\n",
            "not m is False\n"
          ]
        }
      ]
    },
    {
      "cell_type": "markdown",
      "metadata": {
        "id": "9A52G8rc_Sg3"
      },
      "source": [
        "## Bitwise operators\n",
        "* Bitwise operators act on operands as if they were strings of binary digits. They operate bit by bit, hence the name.\n",
        "\n",
        "For example, 2 is 10 in binary and 7 is 111."
      ]
    },
    {
      "cell_type": "code",
      "metadata": {
        "id": "cRYstBNlAEO1",
        "colab": {
          "base_uri": "https://localhost:8080/",
          "height": 129
        },
        "outputId": "96a7a6ac-e152-4d6c-cb4e-de6720a59f1a"
      },
      "source": [
        "x=10\n",
        "y= 4\n",
        "x & y = 0 (00000000)\n",
        "x ^ y = 14 (00001110)\n",
        "x << 2 = 40 (00101000)\n",
        "x >> 2 = 2 (00000010)"
      ],
      "execution_count": 8,
      "outputs": [
        {
          "output_type": "error",
          "ename": "SyntaxError",
          "evalue": "ignored",
          "traceback": [
            "\u001b[0;36m  File \u001b[0;32m\"<ipython-input-8-dca8c94cb919>\"\u001b[0;36m, line \u001b[0;32m4\u001b[0m\n\u001b[0;31m    x ^ y = 14 (00001110)\u001b[0m\n\u001b[0m                       ^\u001b[0m\n\u001b[0;31mSyntaxError\u001b[0m\u001b[0;31m:\u001b[0m invalid token\n"
          ]
        }
      ]
    },
    {
      "cell_type": "markdown",
      "metadata": {
        "id": "HG7A4vEu_b5j"
      },
      "source": [
        "## Assignment operators\n",
        "* Assignment operators are used in Python to assign values to variables."
      ]
    },
    {
      "cell_type": "code",
      "metadata": {
        "id": "CmxOH3tM_osE",
        "colab": {
          "base_uri": "https://localhost:8080/"
        },
        "outputId": "51f574d1-0f8d-45a2-bf61-cf3dac12728c"
      },
      "source": [
        "a=2\n",
        "a += 5\n",
        "a %= 5\n",
        "a **= 5\n",
        "a //= 5\n",
        "print(a)"
      ],
      "execution_count": 9,
      "outputs": [
        {
          "output_type": "stream",
          "name": "stdout",
          "text": [
            "6\n"
          ]
        }
      ]
    },
    {
      "cell_type": "markdown",
      "metadata": {
        "id": "iSfVm8PVAoqX"
      },
      "source": [
        "## Special operators\n",
        "* Python language offers some special types of operators like the identity operator or the membership operator.\n",
        "\n",
        "## Identity operators\n",
        "* is and is not are the identity operators in Python.\n",
        "* They are used to check if two values (or variables) are located on the same part of the memory.\n",
        "* Two variables that are equal does not imply that they are identical."
      ]
    },
    {
      "cell_type": "code",
      "metadata": {
        "id": "oSUX8tYVAyEy",
        "colab": {
          "base_uri": "https://localhost:8080/"
        },
        "outputId": "7266c6e3-a9a2-4e85-9648-79914371eb77"
      },
      "source": [
        "x1 = 10\n",
        "y1 = 10\n",
        "x2 = 'Welcome'\n",
        "y2 = 'Welcome'\n",
        "x3 = [10,20,30]\n",
        "y3 = [10,20,30]\n",
        "\n",
        "# Output: False\n",
        "print(x1 is not y1)\n",
        "\n",
        "# Output: True\n",
        "print(x2 is y2)\n",
        "\n",
        "# Output: False\n",
        "print(x3 is y3)"
      ],
      "execution_count": 10,
      "outputs": [
        {
          "output_type": "stream",
          "name": "stdout",
          "text": [
            "False\n",
            "True\n",
            "False\n"
          ]
        }
      ]
    },
    {
      "cell_type": "markdown",
      "metadata": {
        "id": "t6X9rlnnA1id"
      },
      "source": [
        "## Membership operators\n",
        "* in and not in are the membership operators in Python.\n",
        "* They are used to test whether a value or variable is found in a sequence (string, tuple, set, list, dictionary)"
      ]
    },
    {
      "cell_type": "code",
      "metadata": {
        "id": "Qxcd6jPRA6h4",
        "colab": {
          "base_uri": "https://localhost:8080/"
        },
        "outputId": "771777eb-1950-4f67-8638-5f4623842120"
      },
      "source": [
        "x = 'Hello world'\n",
        "y = {1:'a',2:'b'}\n",
        "\n",
        "# Output: True\n",
        "print('H' in x)\n",
        "\n",
        "# Output: True\n",
        "print('hello' not in x)\n",
        "\n",
        "# Output: True\n",
        "print(1 in y)\n",
        "\n",
        "# Output: False\n",
        "print('a' in y)"
      ],
      "execution_count": 11,
      "outputs": [
        {
          "output_type": "stream",
          "name": "stdout",
          "text": [
            "True\n",
            "True\n",
            "True\n",
            "False\n"
          ]
        }
      ]
    }
  ]
}