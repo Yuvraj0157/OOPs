{
  "nbformat": 4,
  "nbformat_minor": 0,
  "metadata": {
    "colab": {
      "name": "PythonBasics-Practice.ipynb",
      "provenance": [],
      "collapsed_sections": [],
      "include_colab_link": true
    },
    "kernelspec": {
      "name": "python3",
      "display_name": "Python 3"
    },
    "language_info": {
      "name": "python"
    }
  },
  "cells": [
    {
      "cell_type": "markdown",
      "metadata": {
        "id": "view-in-github",
        "colab_type": "text"
      },
      "source": [
        "<a href=\"https://colab.research.google.com/github/Yuvraj0157/OOPs/blob/main/PythonBasics_Practice.ipynb\" target=\"_parent\"><img src=\"https://colab.research.google.com/assets/colab-badge.svg\" alt=\"Open In Colab\"/></a>"
      ]
    },
    {
      "cell_type": "code",
      "metadata": {
        "id": "9wO639a_rZmW"
      },
      "source": [
        "### Python - Practice"
      ],
      "execution_count": null,
      "outputs": []
    },
    {
      "cell_type": "markdown",
      "metadata": {
        "id": "LNX-qxmksOyu"
      },
      "source": [
        "## Python - Practice - 17/08/2021"
      ]
    },
    {
      "cell_type": "markdown",
      "metadata": {
        "id": "FqkvLAQcrbSl"
      },
      "source": [
        "## Python Keywords and Identifiers\n",
        "\n",
        "Rules for writing identifiers:\n",
        "* It can be a combination of letters in lowercase (a to z) or uppercase (A to Z) or digits (0 to 9).\n",
        "* It can be an underscore _. \n",
        "* Example : myCar, str_1, var_23 \n",
        "* multiple words can be separated using an underscore like this_is_a_sentence.\n",
        "* An identifier cannot start with a digit. 1variable is invalid, but variable1 is a valid name.\n",
        "* Keywords cannot be used as identifiers . \n",
        "example : global = 40\n",
        "* special symbols like !, @, #, $, % etc. cant  not used as identifiers\n",
        "identifier size can be of any length\n",
        "* Python is a case-sensitive language. Example :  Variable and variable a"
      ]
    },
    {
      "cell_type": "markdown",
      "metadata": {
        "id": "_fIA2pdTsC_o"
      },
      "source": [
        "## Python Statement\n"
      ]
    },
    {
      "cell_type": "code",
      "metadata": {
        "id": "nQNTpjUWsIF_"
      },
      "source": [
        "var1 = 10     # is a  assignment statement"
      ],
      "execution_count": 1,
      "outputs": []
    },
    {
      "cell_type": "markdown",
      "metadata": {
        "id": "dTpCEcLksck4"
      },
      "source": [
        "### Multiline statements:"
      ]
    },
    {
      "cell_type": "markdown",
      "metadata": {
        "id": "cbOPJ7Q-sYAA"
      },
      "source": [
        "sum = 100 + 25 + 30 + \\\n",
        "    49 + 58 + 62 + \\\n",
        "    70 + 82 + 94\n",
        "\n"
      ]
    },
    {
      "cell_type": "code",
      "metadata": {
        "id": "qeikRN0UsnhY"
      },
      "source": [
        "temp = (10 + 32 + 53 +\n",
        "    40 + 52 + 46 +\n",
        "    27 + 68 + 59)\n",
        "\n",
        "\n",
        "car_Colours = ['red',\n",
        "                'blue',\n",
        "                'green']\n",
        "\n",
        "\n",
        "a = 1; b = 2; c = 3"
      ],
      "execution_count": 2,
      "outputs": []
    },
    {
      "cell_type": "markdown",
      "metadata": {
        "id": "OUesgqzbsuZI"
      },
      "source": [
        "## Python Indentation"
      ]
    },
    {
      "cell_type": "code",
      "metadata": {
        "colab": {
          "base_uri": "https://localhost:8080/"
        },
        "id": "51SElv7Lte_f",
        "outputId": "546573b7-a8c5-453c-8184-b85ac6c04fdb"
      },
      "source": [
        "for k in range(1,10) :\n",
        "    print(k)\n",
        "    if k == 5 + 4:\n",
        "        break\n",
        "\n",
        "if True:\n",
        "    print('Hello')\n",
        "    a = 5\n",
        "\n",
        "if True: print('Hello'); a = 5"
      ],
      "execution_count": 3,
      "outputs": [
        {
          "output_type": "stream",
          "name": "stdout",
          "text": [
            "1\n",
            "2\n",
            "3\n",
            "4\n",
            "5\n",
            "6\n",
            "7\n",
            "8\n",
            "9\n",
            "Hello\n",
            "Hello\n"
          ]
        }
      ]
    },
    {
      "cell_type": "markdown",
      "metadata": {
        "id": "xuKO0kaHs694"
      },
      "source": [
        "Python Comments"
      ]
    },
    {
      "cell_type": "code",
      "metadata": {
        "colab": {
          "base_uri": "https://localhost:8080/",
          "height": 52
        },
        "id": "pGMQkPL2tC0B",
        "outputId": "8591ed8d-6bcf-427f-b93a-2054b27f6ec8"
      },
      "source": [
        "#   This is a comment\n",
        "#   print name of the course\n",
        "\n",
        "print('Welcome to OOP Course')\n",
        "\n",
        "\n",
        "\"\"\"This is also a\n",
        "an example of\n",
        "multi-line comments\"\"\""
      ],
      "execution_count": 4,
      "outputs": [
        {
          "output_type": "stream",
          "name": "stdout",
          "text": [
            "Welcome to OOP Course\n"
          ]
        },
        {
          "output_type": "execute_result",
          "data": {
            "application/vnd.google.colaboratory.intrinsic+json": {
              "type": "string"
            },
            "text/plain": [
              "'This is also a\\nan example of\\nmulti-line comments'"
            ]
          },
          "metadata": {},
          "execution_count": 4
        }
      ]
    },
    {
      "cell_type": "markdown",
      "metadata": {
        "id": "3j2W0aFYttr6"
      },
      "source": [
        "## doc string comments"
      ]
    },
    {
      "cell_type": "code",
      "metadata": {
        "id": "tQQhlMK9tIa2"
      },
      "source": [
        ""
      ],
      "execution_count": null,
      "outputs": []
    },
    {
      "cell_type": "code",
      "metadata": {
        "id": "1wVQf6eYtpi0",
        "outputId": "91ad03b4-3841-4126-bdbf-7109005941a4",
        "colab": {
          "base_uri": "https://localhost:8080/"
        }
      },
      "source": [
        "def sum(num):\n",
        "    \"\"\"Function to the values\"\"\"\n",
        "    return 2+num\n",
        "\n",
        "print(sum.__doc__)"
      ],
      "execution_count": 5,
      "outputs": [
        {
          "output_type": "stream",
          "name": "stdout",
          "text": [
            "Function to the values\n"
          ]
        }
      ]
    }
  ]
}