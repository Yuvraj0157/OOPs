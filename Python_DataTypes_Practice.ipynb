{
  "nbformat": 4,
  "nbformat_minor": 0,
  "metadata": {
    "colab": {
      "name": "Python-DataTypes-Practice.ipynb",
      "provenance": [],
      "collapsed_sections": [],
      "include_colab_link": true
    },
    "kernelspec": {
      "name": "python3",
      "display_name": "Python 3"
    },
    "language_info": {
      "name": "python"
    }
  },
  "cells": [
    {
      "cell_type": "markdown",
      "metadata": {
        "id": "view-in-github",
        "colab_type": "text"
      },
      "source": [
        "<a href=\"https://colab.research.google.com/github/Yuvraj0157/OOPs/blob/main/Python_DataTypes_Practice.ipynb\" target=\"_parent\"><img src=\"https://colab.research.google.com/assets/colab-badge.svg\" alt=\"Open In Colab\"/></a>"
      ]
    },
    {
      "cell_type": "code",
      "metadata": {
        "id": "klQCzlmMyngD"
      },
      "source": [
        ""
      ],
      "execution_count": null,
      "outputs": []
    },
    {
      "cell_type": "markdown",
      "metadata": {
        "id": "gfN5ant9yoDU"
      },
      "source": [
        "\n",
        "\n",
        "## Data types in Python\n",
        "Objectives : \n",
        "* To learn about different data types you can use in Python.\n",
        "\n",
        "Every value in Python has a datatype. Since everything is an object in Python programming, data types are actually classes and variables are instance (object) of these classes.\n",
        "\n",
        "There are various data types in Python. \n",
        "\n",
        "### Python Numbers\n",
        "* Integers, floating point numbers and complex numbers are listed under Python Numbers Category.\n",
        "* Python numbers are defined as int, float and complex classes in Python."
      ]
    },
    {
      "cell_type": "code",
      "metadata": {
        "id": "TFv87Uroy-ew",
        "colab": {
          "base_uri": "https://localhost:8080/"
        },
        "outputId": "84435565-5363-4a53-c5f0-9b0f8128d8e2"
      },
      "source": [
        "temp = 5\n",
        "print(temp, \"is of type\", type(temp))\n",
        "\n",
        "Size = 2.0\n",
        "print(Size, \"is of type\", type(Size))\n",
        "\n",
        "a = 1+2j\n",
        "print(a, \"is complex number?\", isinstance(1+2j,type(a)))"
      ],
      "execution_count": 5,
      "outputs": [
        {
          "output_type": "stream",
          "name": "stdout",
          "text": [
            "5 is of type <class 'int'>\n",
            "2.0 is of type <class 'float'>\n",
            "(1+2j) is complex number? True\n"
          ]
        }
      ]
    },
    {
      "cell_type": "markdown",
      "metadata": {
        "id": "EsTbRdl6zGFp"
      },
      "source": [
        "## Python List\n",
        "List in python is an ordered sequence of items.\n",
        "* It is one of the most used datatype in Python and is very flexible.\n",
        "* All the items in a list can be different data type.\n",
        "* list Items separated by commas are enclosed within brackets [ ].\n",
        "* Use the slicing operator [ ] to extract an item or a range of items from a list.\n",
        "* The index starts from 0 in Python.\n",
        "* Lists are mutable, meaning, the value of elements of a list can be altered."
      ]
    },
    {
      "cell_type": "code",
      "metadata": {
        "id": "lXB5K-gYzVNH",
        "colab": {
          "base_uri": "https://localhost:8080/"
        },
        "outputId": "8012c0b8-c160-4e97-f399-6e4e08e83327"
      },
      "source": [
        "temp = [5,10,15,20,25,30,35,40]\n",
        "\n",
        "# temp[2] = 15\n",
        "print(\"a[2] = \", temp[2])\n",
        "\n",
        "# temp[0:3] = [5, 10, 15]\n",
        "print(\"temp[0:3] = \", temp[0:3])\n",
        "\n",
        "# temp[5:] = [30, 35, 40]\n",
        "print(\"temp[5:] = \", temp[5:])\n",
        "\n",
        "a = [1, 2, 3]\n",
        "a[2] = 4       # mutable\n",
        "print(a)"
      ],
      "execution_count": 6,
      "outputs": [
        {
          "output_type": "stream",
          "name": "stdout",
          "text": [
            "a[2] =  15\n",
            "temp[0:3] =  [5, 10, 15]\n",
            "temp[5:] =  [30, 35, 40]\n",
            "[1, 2, 4]\n"
          ]
        }
      ]
    },
    {
      "cell_type": "markdown",
      "metadata": {
        "id": "debEtufQzWPP"
      },
      "source": [
        "## Python Strings\n",
        "* Strings is sequence of Unicode characters.\n",
        "* use single quotes or double quotes to represent strings.\n",
        "* Multi-line strings can be denoted using triple quotes, ''' or \"\"\""
      ]
    },
    {
      "cell_type": "code",
      "metadata": {
        "id": "8Xik-LiPzgvy",
        "colab": {
          "base_uri": "https://localhost:8080/",
          "height": 231
        },
        "outputId": "c7964fd0-c841-41db-9d6e-b4ab54b1da69"
      },
      "source": [
        "str1 = 'Hello world!'\n",
        "\n",
        "# str1[4] = 'o'\n",
        "print(\"str1[4] = \", str1[4])\n",
        "\n",
        "# str1[6:11] = 'world'\n",
        "print(\"str1[6:11] = \", str1[6:11])\n",
        "\n",
        "# Generates error\n",
        "# Strings are immutable in Python\n",
        "str1[5] ='d'"
      ],
      "execution_count": 7,
      "outputs": [
        {
          "output_type": "stream",
          "name": "stdout",
          "text": [
            "str1[4] =  o\n",
            "str1[6:11] =  world\n"
          ]
        },
        {
          "output_type": "error",
          "ename": "TypeError",
          "evalue": "ignored",
          "traceback": [
            "\u001b[0;31m---------------------------------------------------------------------------\u001b[0m",
            "\u001b[0;31mTypeError\u001b[0m                                 Traceback (most recent call last)",
            "\u001b[0;32m<ipython-input-7-f7defa4e3c60>\u001b[0m in \u001b[0;36m<module>\u001b[0;34m()\u001b[0m\n\u001b[1;32m      9\u001b[0m \u001b[0;31m# Generates error\u001b[0m\u001b[0;34m\u001b[0m\u001b[0;34m\u001b[0m\u001b[0;34m\u001b[0m\u001b[0m\n\u001b[1;32m     10\u001b[0m \u001b[0;31m# Strings are immutable in Python\u001b[0m\u001b[0;34m\u001b[0m\u001b[0;34m\u001b[0m\u001b[0;34m\u001b[0m\u001b[0m\n\u001b[0;32m---> 11\u001b[0;31m \u001b[0mstr1\u001b[0m\u001b[0;34m[\u001b[0m\u001b[0;36m5\u001b[0m\u001b[0;34m]\u001b[0m \u001b[0;34m=\u001b[0m\u001b[0;34m'd'\u001b[0m\u001b[0;34m\u001b[0m\u001b[0;34m\u001b[0m\u001b[0m\n\u001b[0m",
            "\u001b[0;31mTypeError\u001b[0m: 'str' object does not support item assignment"
          ]
        }
      ]
    },
    {
      "cell_type": "code",
      "metadata": {
        "id": "xU5AiapTzn37"
      },
      "source": [
        ""
      ],
      "execution_count": null,
      "outputs": []
    },
    {
      "cell_type": "markdown",
      "metadata": {
        "id": "1cNHN61kzrQd"
      },
      "source": [
        "## Python Set\n",
        "* Set is an unordered collection of unique items.\n",
        "* Set is defined by values separated by comma inside braces { }.\n",
        "* Items in a set are not ordered.\n",
        "* set are unordered collection, indexing has no meaning. Hence, the slicing operator [] does not work."
      ]
    },
    {
      "cell_type": "code",
      "metadata": {
        "id": "2GCjmRcCzzwU",
        "colab": {
          "base_uri": "https://localhost:8080/",
          "height": 231
        },
        "outputId": "c55aa955-b82a-4b89-9ed0-16a55558910d"
      },
      "source": [
        "test = {5,2,3,1,4}\n",
        "\n",
        "# printing set variable\n",
        "print(\"test = \", test)\n",
        "\n",
        "# data type of variable a\n",
        "print(type(test))\n",
        "\n",
        "\n",
        "sample = {1,2,3}\n",
        "print(sample[1])  # does not work"
      ],
      "execution_count": 8,
      "outputs": [
        {
          "output_type": "stream",
          "name": "stdout",
          "text": [
            "test =  {1, 2, 3, 4, 5}\n",
            "<class 'set'>\n"
          ]
        },
        {
          "output_type": "error",
          "ename": "TypeError",
          "evalue": "ignored",
          "traceback": [
            "\u001b[0;31m---------------------------------------------------------------------------\u001b[0m",
            "\u001b[0;31mTypeError\u001b[0m                                 Traceback (most recent call last)",
            "\u001b[0;32m<ipython-input-8-2324b4c259d0>\u001b[0m in \u001b[0;36m<module>\u001b[0;34m()\u001b[0m\n\u001b[1;32m      9\u001b[0m \u001b[0;34m\u001b[0m\u001b[0m\n\u001b[1;32m     10\u001b[0m \u001b[0msample\u001b[0m \u001b[0;34m=\u001b[0m \u001b[0;34m{\u001b[0m\u001b[0;36m1\u001b[0m\u001b[0;34m,\u001b[0m\u001b[0;36m2\u001b[0m\u001b[0;34m,\u001b[0m\u001b[0;36m3\u001b[0m\u001b[0;34m}\u001b[0m\u001b[0;34m\u001b[0m\u001b[0;34m\u001b[0m\u001b[0m\n\u001b[0;32m---> 11\u001b[0;31m \u001b[0mprint\u001b[0m\u001b[0;34m(\u001b[0m\u001b[0msample\u001b[0m\u001b[0;34m[\u001b[0m\u001b[0;36m1\u001b[0m\u001b[0;34m]\u001b[0m\u001b[0;34m)\u001b[0m  \u001b[0;31m# does not work\u001b[0m\u001b[0;34m\u001b[0m\u001b[0;34m\u001b[0m\u001b[0m\n\u001b[0m",
            "\u001b[0;31mTypeError\u001b[0m: 'set' object is not subscriptable"
          ]
        }
      ]
    },
    {
      "cell_type": "markdown",
      "metadata": {
        "id": "zpD-tga6z4tH"
      },
      "source": [
        "## Python Dictionary\n",
        "* Dictionary is an unordered collection of key-value pairs.\n",
        "* Dictionaries are used when there is large dataset processing.\n",
        "* Dictionaries are optimized for retrieving data.\n",
        "* key is required to retrieve the value.\n",
        "* Dictionaries are defined within braces {} with each item being a pair in the form key:value.\n",
        "* Key and value can be of any type."
      ]
    },
    {
      "cell_type": "code",
      "metadata": {
        "id": "96MYYAtnz_0X",
        "colab": {
          "base_uri": "https://localhost:8080/"
        },
        "outputId": "9186d3cd-3997-439c-caa7-0a6046bfd421"
      },
      "source": [
        "dict1 = {1:'value','key':4}\n",
        "print(type(dict1))\n",
        "\n",
        "print(\"dict1[1] = \", dict1[1])\n",
        "\n",
        "print(\"dict1['key'] = \", dict1['key'])"
      ],
      "execution_count": 9,
      "outputs": [
        {
          "output_type": "stream",
          "name": "stdout",
          "text": [
            "<class 'dict'>\n",
            "dict1[1] =  value\n",
            "dict1['key'] =  4\n"
          ]
        }
      ]
    },
    {
      "cell_type": "markdown",
      "metadata": {
        "id": "SotLe4xS0FB-"
      },
      "source": [
        "## Conversion between data types\n",
        "Data types can be converted using different type conversion functions like int(), float(), str(), etc."
      ]
    },
    {
      "cell_type": "code",
      "metadata": {
        "id": "eHiCNxGS0JZ7",
        "colab": {
          "base_uri": "https://localhost:8080/",
          "height": 35
        },
        "outputId": "e5c19f4b-ebf9-496b-e201-a3f4e3c4efb5"
      },
      "source": [
        "float(5)\n",
        "int(10.6)\n",
        "float('2.5')\n",
        "str(25)"
      ],
      "execution_count": 10,
      "outputs": [
        {
          "output_type": "execute_result",
          "data": {
            "application/vnd.google.colaboratory.intrinsic+json": {
              "type": "string"
            },
            "text/plain": [
              "'25'"
            ]
          },
          "metadata": {},
          "execution_count": 10
        }
      ]
    },
    {
      "cell_type": "markdown",
      "metadata": {
        "id": "rqAuBdOv0Ncu"
      },
      "source": [
        "## Type Conversion\n",
        "The process of converting the value of one data type (integer, string, float, etc.) to another data type is called type conversion. Python has two types of type conversion.\n",
        "\n",
        "* Implicit Type Conversion\n",
        "* Explicit Type Conversion\n",
        "\n",
        "## Implicit Type Conversion\n",
        "In Implicit type conversion, Python converts one data type to another data type. This process doesn’t need any user involvement."
      ]
    },
    {
      "cell_type": "code",
      "metadata": {
        "id": "K0BXD3w00Wuf",
        "colab": {
          "base_uri": "https://localhost:8080/"
        },
        "outputId": "1a8b40ec-52dd-48d8-b72a-47a3392e19ee"
      },
      "source": [
        "var_int = 123\n",
        "var_float = 1.23\n",
        "\n",
        "var_new = var_int + var_float\n",
        "\n",
        "print(\"datatype of var_int:\",type(var_int))\n",
        "print(\"datatype of var_float:\",type(var_float))\n",
        "\n",
        "print(\"Value of num_new:\",var_new)\n",
        "print(\"datatype of var_new:\",type(var_new))"
      ],
      "execution_count": 11,
      "outputs": [
        {
          "output_type": "stream",
          "name": "stdout",
          "text": [
            "datatype of var_int: <class 'int'>\n",
            "datatype of var_float: <class 'float'>\n",
            "Value of num_new: 124.23\n",
            "datatype of var_new: <class 'float'>\n"
          ]
        }
      ]
    },
    {
      "cell_type": "markdown",
      "metadata": {
        "id": "tCjlM1-70bIp"
      },
      "source": [
        "### Addition of string(higher) data type and integer(lower) datatype"
      ]
    },
    {
      "cell_type": "code",
      "metadata": {
        "id": "ylNaWQut0gdA",
        "colab": {
          "base_uri": "https://localhost:8080/",
          "height": 197
        },
        "outputId": "5a309e51-2a16-4d36-d0d7-9b727f6393a3"
      },
      "source": [
        "var_int = 300\n",
        "var_str = \"500\"\n",
        "\n",
        "print(var_int + var_str)"
      ],
      "execution_count": 12,
      "outputs": [
        {
          "output_type": "error",
          "ename": "TypeError",
          "evalue": "ignored",
          "traceback": [
            "\u001b[0;31m---------------------------------------------------------------------------\u001b[0m",
            "\u001b[0;31mTypeError\u001b[0m                                 Traceback (most recent call last)",
            "\u001b[0;32m<ipython-input-12-c7a1c9fb5d55>\u001b[0m in \u001b[0;36m<module>\u001b[0;34m()\u001b[0m\n\u001b[1;32m      2\u001b[0m \u001b[0mvar_str\u001b[0m \u001b[0;34m=\u001b[0m \u001b[0;34m\"500\"\u001b[0m\u001b[0;34m\u001b[0m\u001b[0;34m\u001b[0m\u001b[0m\n\u001b[1;32m      3\u001b[0m \u001b[0;34m\u001b[0m\u001b[0m\n\u001b[0;32m----> 4\u001b[0;31m \u001b[0mprint\u001b[0m\u001b[0;34m(\u001b[0m\u001b[0mvar_int\u001b[0m \u001b[0;34m+\u001b[0m \u001b[0mvar_str\u001b[0m\u001b[0;34m)\u001b[0m\u001b[0;34m\u001b[0m\u001b[0;34m\u001b[0m\u001b[0m\n\u001b[0m",
            "\u001b[0;31mTypeError\u001b[0m: unsupported operand type(s) for +: 'int' and 'str'"
          ]
        }
      ]
    },
    {
      "cell_type": "markdown",
      "metadata": {
        "id": "RSH742In0kFg"
      },
      "source": [
        "## Explicit Type Conversion\n",
        "\n",
        "In Explicit Type Conversion, users convert the data type of an object to required data type. Users use the predefined functions like int(), float(), str(), etc to perform explicit type conversion."
      ]
    },
    {
      "cell_type": "code",
      "metadata": {
        "id": "XNjHqTSz0o0X",
        "colab": {
          "base_uri": "https://localhost:8080/"
        },
        "outputId": "afe3d025-b14c-4f49-a3d5-3720aafd3a3b"
      },
      "source": [
        "num_int = 500\n",
        "num_str = \"390\"\n",
        "\n",
        "print(\"Data type of num_int:\",type(num_int))\n",
        "print(\"Data type of num_str before Type Casting:\",type(num_str))\n",
        "\n",
        "num_str = int(num_str)\n",
        "print(\"Data type of num_str after Type Casting:\",type(num_str))\n",
        "\n",
        "num_sum = num_int + num_str\n",
        "\n",
        "print(\"Sum of num_int and num_str:\",num_sum)\n",
        "print(\"Data type of the sum:\",type(num_sum))"
      ],
      "execution_count": 13,
      "outputs": [
        {
          "output_type": "stream",
          "name": "stdout",
          "text": [
            "Data type of num_int: <class 'int'>\n",
            "Data type of num_str before Type Casting: <class 'str'>\n",
            "Data type of num_str after Type Casting: <class 'int'>\n",
            "Sum of num_int and num_str: 890\n",
            "Data type of the sum: <class 'int'>\n"
          ]
        }
      ]
    }
  ]
}